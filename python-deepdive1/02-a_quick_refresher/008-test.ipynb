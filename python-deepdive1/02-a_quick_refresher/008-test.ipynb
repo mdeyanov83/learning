{
 "cells": [
  {
   "cell_type": "markdown",
   "id": "54c10f5e",
   "metadata": {},
   "source": [
    "try...except...finally"
   ]
  },
  {
   "cell_type": "code",
   "execution_count": 2,
   "id": "966c6208",
   "metadata": {},
   "outputs": [
    {
     "name": "stdout",
     "output_type": "stream",
     "text": [
      "Division by 0\n",
      "This always executes\n"
     ]
    }
   ],
   "source": [
    "a = 10\n",
    "b = 0\n",
    "try:\n",
    "    a/b\n",
    "except ZeroDivisionError:\n",
    "    print('Division by 0')\n",
    "finally:\n",
    "    print('This always executes')"
   ]
  },
  {
   "cell_type": "code",
   "execution_count": 6,
   "id": "51d98f5e",
   "metadata": {},
   "outputs": [
    {
     "name": "stdout",
     "output_type": "stream",
     "text": [
      "---------\n",
      "1, 9 - always executes\n",
      "{0}, {1} - main loop\n",
      "---------\n",
      "2, 8 - always executes\n",
      "{0}, {1} - main loop\n",
      "---------\n",
      "3, 7 - always executes\n",
      "{0}, {1} - main loop\n",
      "---------\n",
      "4, 6 - always executes\n",
      "{0}, {1} - main loop\n",
      "Code executed without a zero division error\n"
     ]
    }
   ],
   "source": [
    "a = 0\n",
    "b = 10\n",
    "\n",
    "while a < 4:\n",
    "    print('---------')\n",
    "    a += 1\n",
    "    b -= 1\n",
    "\n",
    "    try:\n",
    "        a / b\n",
    "    except ZeroDivisionError:\n",
    "        print('{0}, {1} - division by 0'.format(a, b))\n",
    "        # continue\n",
    "        break\n",
    "    finally:\n",
    "        print('{0}, {1} - always executes'.format(a, b))\n",
    "\n",
    "    print('{0}, {1} - main loop')\n",
    "else:\n",
    "    print('Code executed without a zero division error')"
   ]
  }
 ],
 "metadata": {
  "kernelspec": {
   "display_name": "venv",
   "language": "python",
   "name": "python3"
  },
  "language_info": {
   "codemirror_mode": {
    "name": "ipython",
    "version": 3
   },
   "file_extension": ".py",
   "mimetype": "text/x-python",
   "name": "python",
   "nbconvert_exporter": "python",
   "pygments_lexer": "ipython3",
   "version": "3.12.3"
  }
 },
 "nbformat": 4,
 "nbformat_minor": 5
}
