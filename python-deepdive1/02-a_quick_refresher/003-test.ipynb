{
 "cells": [
  {
   "cell_type": "code",
   "execution_count": 7,
   "id": "828c0e54",
   "metadata": {},
   "outputs": [],
   "source": [
    "a = [1, 2, 3]"
   ]
  },
  {
   "cell_type": "code",
   "execution_count": 10,
   "id": "a0bd91d9",
   "metadata": {},
   "outputs": [],
   "source": [
    "a = [1, 2,\n",
    "     3, 4, 5]"
   ]
  },
  {
   "cell_type": "code",
   "execution_count": 12,
   "id": "bcb70ced",
   "metadata": {},
   "outputs": [
    {
     "data": {
      "text/plain": [
       "[1, 2, 3, 4, 5]"
      ]
     },
     "execution_count": 12,
     "metadata": {},
     "output_type": "execute_result"
    }
   ],
   "source": [
    "a"
   ]
  },
  {
   "cell_type": "code",
   "execution_count": 13,
   "id": "c523e180",
   "metadata": {},
   "outputs": [
    {
     "data": {
      "text/plain": [
       "[1, 2]"
      ]
     },
     "execution_count": 13,
     "metadata": {},
     "output_type": "execute_result"
    }
   ],
   "source": [
    "a = [1, #item1\n",
    "     2]\n",
    "a"
   ]
  },
  {
   "cell_type": "code",
   "execution_count": 14,
   "id": "c982d64f",
   "metadata": {},
   "outputs": [
    {
     "data": {
      "text/plain": [
       "(1, 2, 3)"
      ]
     },
     "execution_count": 14,
     "metadata": {},
     "output_type": "execute_result"
    }
   ],
   "source": [
    "a = (1, #comment\n",
    "     2,\n",
    "     3)\n",
    "a"
   ]
  },
  {
   "cell_type": "code",
   "execution_count": 16,
   "id": "92ce91c9",
   "metadata": {},
   "outputs": [
    {
     "data": {
      "text/plain": [
       "{'key1': 1, 'key2': 2}"
      ]
     },
     "execution_count": 16,
     "metadata": {},
     "output_type": "execute_result"
    }
   ],
   "source": [
    "a = {'key1': 1, #value for key 1\n",
    "     'key2': 2, #value for key 2\n",
    "    }\n",
    "a"
   ]
  },
  {
   "cell_type": "code",
   "execution_count": 17,
   "id": "d260225f",
   "metadata": {},
   "outputs": [
    {
     "name": "stdout",
     "output_type": "stream",
     "text": [
      "10 20 30\n"
     ]
    }
   ],
   "source": [
    "def my_func(a, #comment\n",
    "            b, #comment\n",
    "            c):\n",
    "    print(a, b, c)\n",
    "my_func(10, 20, #comment\n",
    "        30)"
   ]
  },
  {
   "cell_type": "code",
   "execution_count": null,
   "id": "571c7e6b",
   "metadata": {},
   "outputs": [
    {
     "name": "stdout",
     "output_type": "stream",
     "text": [
      "yes\n"
     ]
    }
   ],
   "source": [
    "a = 10\n",
    "b = 20\n",
    "c = 30\n",
    "if a > 5 \\\n",
    "    and b > 10 \\\n",
    "    and c > 20:\n",
    "    print('yes')"
   ]
  },
  {
   "cell_type": "code",
   "execution_count": null,
   "id": "337f3909",
   "metadata": {},
   "outputs": [
    {
     "name": "stdout",
     "output_type": "stream",
     "text": [
      "this\n",
      "is a string\n"
     ]
    }
   ],
   "source": [
    "a = '''this\n",
    "is a string'''\n",
    "print(a)"
   ]
  },
  {
   "cell_type": "code",
   "execution_count": 22,
   "id": "7efb9f59",
   "metadata": {},
   "outputs": [
    {
     "data": {
      "text/plain": [
       "'this\\nis a string'"
      ]
     },
     "execution_count": 22,
     "metadata": {},
     "output_type": "execute_result"
    }
   ],
   "source": [
    "a"
   ]
  },
  {
   "cell_type": "code",
   "execution_count": null,
   "id": "32352987",
   "metadata": {},
   "outputs": [
    {
     "data": {
      "text/plain": [
       "'this\\n     is a string\\n            that is created over multiple lines'"
      ]
     },
     "execution_count": 23,
     "metadata": {},
     "output_type": "execute_result"
    }
   ],
   "source": [
    "a = '''this\n",
    "     is a string\n",
    "            that is created over multiple lines'''\n"
   ]
  },
  {
   "cell_type": "code",
   "execution_count": 24,
   "id": "6169b2a1",
   "metadata": {},
   "outputs": [
    {
     "data": {
      "text/plain": [
       "'this\\n     is a string\\n            that is created over multiple lines'"
      ]
     },
     "execution_count": 24,
     "metadata": {},
     "output_type": "execute_result"
    }
   ],
   "source": [
    "a"
   ]
  },
  {
   "cell_type": "code",
   "execution_count": 25,
   "id": "87b94e54",
   "metadata": {},
   "outputs": [
    {
     "name": "stdout",
     "output_type": "stream",
     "text": [
      "this\n",
      "     is a string\n",
      "            that is created over multiple lines\n"
     ]
    }
   ],
   "source": [
    "print(a)"
   ]
  },
  {
   "cell_type": "code",
   "execution_count": 26,
   "id": "716b9207",
   "metadata": {},
   "outputs": [
    {
     "name": "stdout",
     "output_type": "stream",
     "text": [
      "some items:\n",
      "        1. item 1\n",
      "        2. item 2\n"
     ]
    }
   ],
   "source": [
    "a = '''some items:\n",
    "        1. item 1\n",
    "        2. item 2'''\n",
    "print(a)"
   ]
  },
  {
   "cell_type": "code",
   "execution_count": 28,
   "id": "6de7aab0",
   "metadata": {},
   "outputs": [
    {
     "name": "stdout",
     "output_type": "stream",
     "text": [
      "a multi-line string\n",
      "    that is indented in the second line\n"
     ]
    }
   ],
   "source": [
    "def my_func():\n",
    "    a = '''a multi-line string\n",
    "    that is indented in the second line'''\n",
    "    return a\n",
    "print(my_func())"
   ]
  }
 ],
 "metadata": {
  "kernelspec": {
   "display_name": "venv",
   "language": "python",
   "name": "python3"
  },
  "language_info": {
   "codemirror_mode": {
    "name": "ipython",
    "version": 3
   },
   "file_extension": ".py",
   "mimetype": "text/x-python",
   "name": "python",
   "nbconvert_exporter": "python",
   "pygments_lexer": "ipython3",
   "version": "3.12.3"
  }
 },
 "nbformat": 4,
 "nbformat_minor": 5
}
