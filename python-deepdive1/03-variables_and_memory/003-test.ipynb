{
 "cells": [
  {
   "cell_type": "markdown",
   "id": "c1fd68a7",
   "metadata": {},
   "source": [
    "Reference Counting"
   ]
  },
  {
   "cell_type": "code",
   "execution_count": null,
   "id": "fbc74c92",
   "metadata": {},
   "outputs": [],
   "source": [
    "my_var = 10"
   ]
  }
 ],
 "metadata": {
  "kernelspec": {
   "display_name": "venv",
   "language": "python",
   "name": "python3"
  },
  "language_info": {
   "name": "python",
   "version": "3.12.3"
  }
 },
 "nbformat": 4,
 "nbformat_minor": 5
}
