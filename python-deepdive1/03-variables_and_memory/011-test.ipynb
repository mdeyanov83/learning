{
 "cells": [
  {
   "cell_type": "markdown",
   "id": "e2671108",
   "metadata": {},
   "source": [
    "## Everything is an Object"
   ]
  }
 ],
 "metadata": {
  "language_info": {
   "name": "python"
  }
 },
 "nbformat": 4,
 "nbformat_minor": 5
}
