{
 "cells": [
  {
   "cell_type": "markdown",
   "id": "744fd448",
   "metadata": {},
   "source": [
    "Garbage Collection"
   ]
  },
  {
   "cell_type": "code",
   "execution_count": null,
   "id": "ec19fbce",
   "metadata": {
    "vscode": {
     "languageId": "plaintext"
    }
   },
   "outputs": [],
   "source": []
  }
 ],
 "metadata": {
  "language_info": {
   "name": "python"
  }
 },
 "nbformat": 4,
 "nbformat_minor": 5
}
