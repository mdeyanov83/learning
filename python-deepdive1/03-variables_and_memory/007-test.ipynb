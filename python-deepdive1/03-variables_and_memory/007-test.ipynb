{
 "cells": [
  {
   "cell_type": "markdown",
   "id": "cd9d2e3b",
   "metadata": {},
   "source": [
    "### Object Mutability"
   ]
  },
  {
   "cell_type": "markdown",
   "id": "2f2b9049",
   "metadata": {},
   "source": [
    "Immutable:\n",
    "- Numbers (int, float, Boolean, etc.)\n",
    "- Strings\n",
    "- Tuples\n",
    "- Frozen Sets\n",
    "- User-Defined Classes\n",
    "\n",
    "Mutable:\n",
    "- Lists\n",
    "- Sets\n",
    "- Dictionaries\n",
    "- User-Defined Classes"
   ]
  },
  {
   "cell_type": "code",
   "execution_count": null,
   "id": "1db3423c",
   "metadata": {},
   "outputs": [],
   "source": []
  }
 ],
 "metadata": {
  "kernelspec": {
   "display_name": "venv",
   "language": "python",
   "name": "python3"
  },
  "language_info": {
   "name": "python",
   "version": "3.12.3"
  }
 },
 "nbformat": 4,
 "nbformat_minor": 5
}
