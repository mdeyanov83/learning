{
 "cells": [
  {
   "cell_type": "markdown",
   "id": "cd9d2e3b",
   "metadata": {},
   "source": [
    "### Object Mutability"
   ]
  },
  {
   "cell_type": "markdown",
   "id": "2f2b9049",
   "metadata": {},
   "source": [
    "Immutable:\n",
    "- Numbers (int, float, Boolean, etc.)\n",
    "- Strings\n",
    "- Tuples\n",
    "- Frozen Sets\n",
    "- User-Defined Classes\n",
    "\n",
    "Mutable:\n",
    "- Lists\n",
    "- Sets\n",
    "- Dictionaries\n",
    "- User-Defined Classes"
   ]
  },
  {
   "cell_type": "code",
   "execution_count": 4,
   "id": "1db3423c",
   "metadata": {},
   "outputs": [],
   "source": [
    "my_list = [1, 2, 3]"
   ]
  },
  {
   "cell_type": "code",
   "execution_count": null,
   "id": "1d7ed27e",
   "metadata": {},
   "outputs": [
    {
     "data": {
      "text/plain": [
       "list"
      ]
     },
     "execution_count": 6,
     "metadata": {},
     "output_type": "execute_result"
    }
   ],
   "source": [
    "type(my_list)"
   ]
  }
 ],
 "metadata": {
  "kernelspec": {
   "display_name": "venv",
   "language": "python",
   "name": "python3"
  },
  "language_info": {
   "codemirror_mode": {
    "name": "ipython",
    "version": 3
   },
   "file_extension": ".py",
   "mimetype": "text/x-python",
   "name": "python",
   "nbconvert_exporter": "python",
   "pygments_lexer": "ipython3",
   "version": "3.12.3"
  }
 },
 "nbformat": 4,
 "nbformat_minor": 5
}
