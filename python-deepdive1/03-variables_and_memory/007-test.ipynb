{
 "cells": [
  {
   "cell_type": "markdown",
   "id": "cd9d2e3b",
   "metadata": {},
   "source": [
    "Object Mutability"
   ]
  },
  {
   "cell_type": "code",
   "execution_count": null,
   "id": "1db3423c",
   "metadata": {
    "vscode": {
     "languageId": "plaintext"
    }
   },
   "outputs": [],
   "source": []
  }
 ],
 "metadata": {
  "language_info": {
   "name": "python"
  }
 },
 "nbformat": 4,
 "nbformat_minor": 5
}
