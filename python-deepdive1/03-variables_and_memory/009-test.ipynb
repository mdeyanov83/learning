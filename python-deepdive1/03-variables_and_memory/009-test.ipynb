{
 "cells": [
  {
   "cell_type": "markdown",
   "id": "386cd8b0",
   "metadata": {},
   "source": [
    "## Shared References and Mutability"
   ]
  }
 ],
 "metadata": {
  "language_info": {
   "name": "python"
  }
 },
 "nbformat": 4,
 "nbformat_minor": 5
}
