{
 "cells": [
  {
   "cell_type": "markdown",
   "id": "176c8bcd",
   "metadata": {},
   "source": [
    "## Function Arguments and Mutability"
   ]
  },
  {
   "cell_type": "code",
   "execution_count": 1,
   "id": "94e4ed84",
   "metadata": {},
   "outputs": [],
   "source": [
    "def process(s):\n",
    "    print(f'Initial s # = {id(s)}')\n",
    "    s = s + ' world'\n",
    "    print(f'Final s# = {id(s)}')"
   ]
  },
  {
   "cell_type": "code",
   "execution_count": 2,
   "id": "90bfcb8f",
   "metadata": {},
   "outputs": [
    {
     "name": "stdout",
     "output_type": "stream",
     "text": [
      "my_var # = 140383290887696\n"
     ]
    }
   ],
   "source": [
    "my_var = 'hello'\n",
    "print(f'my_var # = {id(my_var)}')"
   ]
  },
  {
   "cell_type": "code",
   "execution_count": 3,
   "id": "acf05c03",
   "metadata": {},
   "outputs": [
    {
     "name": "stdout",
     "output_type": "stream",
     "text": [
      "Initial s # = 140383290887696\n",
      "Final s# = 140383031649264\n"
     ]
    }
   ],
   "source": [
    "process(my_var)"
   ]
  }
 ],
 "metadata": {
  "kernelspec": {
   "display_name": "venv",
   "language": "python",
   "name": "python3"
  },
  "language_info": {
   "codemirror_mode": {
    "name": "ipython",
    "version": 3
   },
   "file_extension": ".py",
   "mimetype": "text/x-python",
   "name": "python",
   "nbconvert_exporter": "python",
   "pygments_lexer": "ipython3",
   "version": "3.12.3"
  }
 },
 "nbformat": 4,
 "nbformat_minor": 5
}
