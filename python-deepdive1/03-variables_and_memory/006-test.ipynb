{
 "cells": [
  {
   "cell_type": "markdown",
   "id": "f6e9e608",
   "metadata": {},
   "source": [
    "Variable Re-Assignment"
   ]
  },
  {
   "cell_type": "code",
   "execution_count": null,
   "id": "cc90761d",
   "metadata": {
    "vscode": {
     "languageId": "plaintext"
    }
   },
   "outputs": [],
   "source": [
    "my_var ="
   ]
  }
 ],
 "metadata": {
  "language_info": {
   "name": "python"
  }
 },
 "nbformat": 4,
 "nbformat_minor": 5
}
