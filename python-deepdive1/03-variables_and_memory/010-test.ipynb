{
 "cells": [
  {
   "cell_type": "markdown",
   "id": "d9be5dea",
   "metadata": {},
   "source": [
    "## Variable Equality"
   ]
  },
  {
   "cell_type": "code",
   "execution_count": 1,
   "id": "38c2c44c",
   "metadata": {},
   "outputs": [],
   "source": [
    "a = 10\n",
    "b = a"
   ]
  },
  {
   "cell_type": "code",
   "execution_count": 2,
   "id": "8b458381",
   "metadata": {},
   "outputs": [
    {
     "data": {
      "text/plain": [
       "True"
      ]
     },
     "execution_count": 2,
     "metadata": {},
     "output_type": "execute_result"
    }
   ],
   "source": [
    "a is b"
   ]
  }
 ],
 "metadata": {
  "kernelspec": {
   "display_name": "venv",
   "language": "python",
   "name": "python3"
  },
  "language_info": {
   "codemirror_mode": {
    "name": "ipython",
    "version": 3
   },
   "file_extension": ".py",
   "mimetype": "text/x-python",
   "name": "python",
   "nbconvert_exporter": "python",
   "pygments_lexer": "ipython3",
   "version": "3.12.3"
  }
 },
 "nbformat": 4,
 "nbformat_minor": 5
}
