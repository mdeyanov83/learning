{
 "cells": [
  {
   "cell_type": "markdown",
   "id": "d9be5dea",
   "metadata": {},
   "source": [
    "## Variable Equality"
   ]
  },
  {
   "cell_type": "code",
   "execution_count": null,
   "id": "38c2c44c",
   "metadata": {},
   "outputs": [],
   "source": [
    "a = 10\n",
    "a = b"
   ]
  }
 ],
 "metadata": {
  "kernelspec": {
   "display_name": "venv",
   "language": "python",
   "name": "python3"
  },
  "language_info": {
   "name": "python",
   "version": "3.12.3"
  }
 },
 "nbformat": 4,
 "nbformat_minor": 5
}
