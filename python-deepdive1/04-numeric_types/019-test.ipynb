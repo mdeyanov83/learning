{
 "cells": [
  {
   "cell_type": "markdown",
   "id": "ca3ecf10",
   "metadata": {},
   "source": [
    "## Decimals - Constructors and Contexts"
   ]
  },
  {
   "cell_type": "code",
   "execution_count": null,
   "id": "a9979d2a",
   "metadata": {},
   "outputs": [],
   "source": []
  }
 ],
 "metadata": {
  "kernelspec": {
   "display_name": "venv",
   "language": "python",
   "name": "python3"
  },
  "language_info": {
   "name": "python",
   "version": "3.12.3"
  }
 },
 "nbformat": 4,
 "nbformat_minor": 5
}
