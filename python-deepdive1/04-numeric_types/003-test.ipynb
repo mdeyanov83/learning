{
 "cells": [
  {
   "cell_type": "markdown",
   "id": "89c6edf5",
   "metadata": {},
   "source": [
    "## Integers - Operations"
   ]
  },
  {
   "cell_type": "code",
   "execution_count": null,
   "id": "20c73039",
   "metadata": {},
   "outputs": [],
   "source": []
  }
 ],
 "metadata": {
  "kernelspec": {
   "display_name": "venv",
   "language": "python",
   "name": "python3"
  },
  "language_info": {
   "name": "python",
   "version": "3.12.3"
  }
 },
 "nbformat": 4,
 "nbformat_minor": 5
}
