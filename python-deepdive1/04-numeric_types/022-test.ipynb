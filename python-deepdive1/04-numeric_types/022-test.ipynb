{
 "cells": [
  {
   "cell_type": "markdown",
   "id": "dfdce645",
   "metadata": {},
   "source": [
    "## Decimals - Performance Considerations"
   ]
  },
  {
   "cell_type": "code",
   "execution_count": null,
   "id": "d81f1ac3",
   "metadata": {},
   "outputs": [],
   "source": []
  }
 ],
 "metadata": {
  "kernelspec": {
   "display_name": "venv",
   "language": "python",
   "name": "python3"
  },
  "language_info": {
   "name": "python",
   "version": "3.12.3"
  }
 },
 "nbformat": 4,
 "nbformat_minor": 5
}
