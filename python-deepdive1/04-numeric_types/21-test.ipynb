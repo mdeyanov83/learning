{
 "cells": [
  {
   "cell_type": "markdown",
   "id": "1b6610c4",
   "metadata": {},
   "source": [
    "## Decimal - Math Operations"
   ]
  },
  {
   "cell_type": "code",
   "execution_count": 1,
   "id": "40be52fa",
   "metadata": {},
   "outputs": [],
   "source": [
    "import decimal\n",
    "from decimal import Decimal"
   ]
  },
  {
   "cell_type": "markdown",
   "id": "4b5c906a",
   "metadata": {},
   "source": [
    "// div and % mod operators\n",
    "\n",
    "n = d * (n//d) + (n%d)"
   ]
  },
  {
   "cell_type": "code",
   "execution_count": 4,
   "id": "33dffd48",
   "metadata": {},
   "outputs": [
    {
     "name": "stdout",
     "output_type": "stream",
     "text": [
      "3 1\n",
      "(3, 1)\n",
      "True\n"
     ]
    }
   ],
   "source": [
    "x = 10\n",
    "y = 3\n",
    "print(x//y, x%y)\n",
    "print(divmod(x, y))\n",
    "print(x == y * (x//y) + (x%y))"
   ]
  },
  {
   "cell_type": "code",
   "execution_count": 5,
   "id": "10fe3958",
   "metadata": {},
   "outputs": [
    {
     "name": "stdout",
     "output_type": "stream",
     "text": [
      "3 1\n",
      "(Decimal('3'), Decimal('1'))\n",
      "True\n"
     ]
    }
   ],
   "source": [
    "x = Decimal(10)\n",
    "y = Decimal(3)\n",
    "print(x//y, x%y)\n",
    "print(divmod(x, y))\n",
    "print(x == y * (x//y) + (x%y))"
   ]
  },
  {
   "cell_type": "code",
   "execution_count": null,
   "id": "252939a9",
   "metadata": {},
   "outputs": [],
   "source": [
    "x = Decimal(-10)\n",
    "y = Decimal(-3)\n",
    "print(x//y, x%y)\n",
    "print(divmod(x, y))\n",
    "print(x == y * (x//y) + (x%y))"
   ]
  }
 ],
 "metadata": {
  "kernelspec": {
   "display_name": "venv",
   "language": "python",
   "name": "python3"
  },
  "language_info": {
   "codemirror_mode": {
    "name": "ipython",
    "version": 3
   },
   "file_extension": ".py",
   "mimetype": "text/x-python",
   "name": "python",
   "nbconvert_exporter": "python",
   "pygments_lexer": "ipython3",
   "version": "3.12.3"
  }
 },
 "nbformat": 4,
 "nbformat_minor": 5
}
