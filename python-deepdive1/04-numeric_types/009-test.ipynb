{
 "cells": [
  {
   "cell_type": "markdown",
   "id": "34e7c8c3",
   "metadata": {},
   "source": [
    "## Floats - Internal Representation"
   ]
  },
  {
   "cell_type": "code",
   "execution_count": null,
   "id": "357615a9",
   "metadata": {},
   "outputs": [],
   "source": []
  }
 ],
 "metadata": {
  "kernelspec": {
   "display_name": "venv",
   "language": "python",
   "name": "python3"
  },
  "language_info": {
   "name": "python",
   "version": "3.12.3"
  }
 },
 "nbformat": 4,
 "nbformat_minor": 5
}
