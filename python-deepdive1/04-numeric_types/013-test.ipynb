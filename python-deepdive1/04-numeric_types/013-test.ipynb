{
 "cells": [
  {
   "cell_type": "markdown",
   "id": "82809f1f",
   "metadata": {},
   "source": [
    "## Floats - Coercing to Integers"
   ]
  },
  {
   "cell_type": "code",
   "execution_count": null,
   "id": "4b8c1550",
   "metadata": {},
   "outputs": [],
   "source": []
  }
 ],
 "metadata": {
  "kernelspec": {
   "display_name": "venv",
   "language": "python",
   "name": "python3"
  },
  "language_info": {
   "name": "python",
   "version": "3.12.3"
  }
 },
 "nbformat": 4,
 "nbformat_minor": 5
}
