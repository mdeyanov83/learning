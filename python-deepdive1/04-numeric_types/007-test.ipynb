{
 "cells": [
  {
   "cell_type": "markdown",
   "id": "8c5ce1ed",
   "metadata": {},
   "source": [
    "## Rational Numbers"
   ]
  },
  {
   "cell_type": "code",
   "execution_count": null,
   "id": "08e403d4",
   "metadata": {},
   "outputs": [],
   "source": [
    "from fractions import Fraction"
   ]
  },
  {
   "cell_type": "code",
   "execution_count": 3,
   "id": "8f73736f",
   "metadata": {},
   "outputs": [
    {
     "name": "stdout",
     "output_type": "stream",
     "text": [
      "Help on class Fraction in module fractions:\n",
      "\n",
      "class Fraction(numbers.Rational)\n",
      " |  Fraction(numerator=0, denominator=None)\n",
      " |\n",
      " |  This class implements rational numbers.\n",
      " |\n",
      " |  In the two-argument form of the constructor, Fraction(8, 6) will\n",
      " |  produce a rational number equivalent to 4/3. Both arguments must\n",
      " |  be Rational. The numerator defaults to 0 and the denominator\n",
      " |  defaults to 1 so that Fraction(3) == 3 and Fraction() == 0.\n",
      " |\n",
      " |  Fractions can also be constructed from:\n",
      " |\n",
      " |    - numeric strings similar to those accepted by the\n",
      " |      float constructor (for example, '-2.3' or '1e10')\n",
      " |\n",
      " |    - strings of the form '123/456'\n",
      " |\n",
      " |    - float and Decimal instances\n",
      " |\n",
      " |    - other Rational instances (including integers)\n",
      " |\n",
      " |  Method resolution order:\n",
      " |      Fraction\n",
      " |      numbers.Rational\n",
      " |      numbers.Real\n",
      " |      numbers.Complex\n",
      " |      numbers.Number\n",
      " |      builtins.object\n",
      " |\n",
      " |  Methods defined here:\n",
      " |\n",
      " |  __abs__(a)\n",
      " |      abs(a)\n",
      " |\n",
      " |  __add__(a, b) from fractions.Fraction._operator_fallbacks.<locals>\n",
      " |      a + b\n",
      " |\n",
      " |  __bool__(a)\n",
      " |      a != 0\n",
      " |\n",
      " |  __ceil__(a)\n",
      " |      math.ceil(a)\n",
      " |\n",
      " |  __copy__(self)\n",
      " |\n",
      " |  __deepcopy__(self, memo)\n",
      " |\n",
      " |  __divmod__(a, b) from fractions.Fraction._operator_fallbacks.<locals>\n",
      " |      (a // b, a % b)\n",
      " |\n",
      " |  __eq__(a, b)\n",
      " |      a == b\n",
      " |\n",
      " |  __floor__(a)\n",
      " |      math.floor(a)\n",
      " |\n",
      " |  __floordiv__(a, b) from fractions.Fraction._operator_fallbacks.<locals>\n",
      " |      a // b\n",
      " |\n",
      " |  __format__(self, format_spec, /)\n",
      " |      Format this fraction according to the given format specification.\n",
      " |\n",
      " |  __ge__(a, b)\n",
      " |      a >= b\n",
      " |\n",
      " |  __gt__(a, b)\n",
      " |      a > b\n",
      " |\n",
      " |  __hash__(self)\n",
      " |      hash(self)\n",
      " |\n",
      " |  __int__(a, _index=<built-in function index>)\n",
      " |      int(a)\n",
      " |\n",
      " |  __le__(a, b)\n",
      " |      a <= b\n",
      " |\n",
      " |  __lt__(a, b)\n",
      " |      a < b\n",
      " |\n",
      " |  __mod__(a, b) from fractions.Fraction._operator_fallbacks.<locals>\n",
      " |      a % b\n",
      " |\n",
      " |  __mul__(a, b) from fractions.Fraction._operator_fallbacks.<locals>\n",
      " |      a * b\n",
      " |\n",
      " |  __neg__(a)\n",
      " |      -a\n",
      " |\n",
      " |  __pos__(a)\n",
      " |      +a: Coerces a subclass instance to Fraction\n",
      " |\n",
      " |  __pow__(a, b)\n",
      " |      a ** b\n",
      " |\n",
      " |      If b is not an integer, the result will be a float or complex\n",
      " |      since roots are generally irrational. If b is an integer, the\n",
      " |      result will be rational.\n",
      " |\n",
      " |  __radd__(b, a) from fractions.Fraction._operator_fallbacks.<locals>\n",
      " |      a + b\n",
      " |\n",
      " |  __rdivmod__(b, a) from fractions.Fraction._operator_fallbacks.<locals>\n",
      " |      (a // b, a % b)\n",
      " |\n",
      " |  __reduce__(self)\n",
      " |      Helper for pickle.\n",
      " |\n",
      " |  __repr__(self)\n",
      " |      repr(self)\n",
      " |\n",
      " |  __rfloordiv__(b, a) from fractions.Fraction._operator_fallbacks.<locals>\n",
      " |      a // b\n",
      " |\n",
      " |  __rmod__(b, a) from fractions.Fraction._operator_fallbacks.<locals>\n",
      " |      a % b\n",
      " |\n",
      " |  __rmul__(b, a) from fractions.Fraction._operator_fallbacks.<locals>\n",
      " |      a * b\n",
      " |\n",
      " |  __round__(self, ndigits=None)\n",
      " |      round(self, ndigits)\n",
      " |\n",
      " |      Rounds half toward even.\n",
      " |\n",
      " |  __rpow__(b, a)\n",
      " |      a ** b\n",
      " |\n",
      " |  __rsub__(b, a) from fractions.Fraction._operator_fallbacks.<locals>\n",
      " |      a - b\n",
      " |\n",
      " |  __rtruediv__(b, a) from fractions.Fraction._operator_fallbacks.<locals>\n",
      " |      a / b\n",
      " |\n",
      " |  __str__(self)\n",
      " |      str(self)\n",
      " |\n",
      " |  __sub__(a, b) from fractions.Fraction._operator_fallbacks.<locals>\n",
      " |      a - b\n",
      " |\n",
      " |  __truediv__(a, b) from fractions.Fraction._operator_fallbacks.<locals>\n",
      " |      a / b\n",
      " |\n",
      " |  __trunc__(a)\n",
      " |      math.trunc(a)\n",
      " |\n",
      " |  as_integer_ratio(self)\n",
      " |      Return a pair of integers, whose ratio is equal to the original Fraction.\n",
      " |\n",
      " |      The ratio is in lowest terms and has a positive denominator.\n",
      " |\n",
      " |  is_integer(self)\n",
      " |      Return True if the Fraction is an integer.\n",
      " |\n",
      " |  limit_denominator(self, max_denominator=1000000)\n",
      " |      Closest Fraction to self with denominator at most max_denominator.\n",
      " |\n",
      " |      >>> Fraction('3.141592653589793').limit_denominator(10)\n",
      " |      Fraction(22, 7)\n",
      " |      >>> Fraction('3.141592653589793').limit_denominator(100)\n",
      " |      Fraction(311, 99)\n",
      " |      >>> Fraction(4321, 8765).limit_denominator(10000)\n",
      " |      Fraction(4321, 8765)\n",
      " |\n",
      " |  ----------------------------------------------------------------------\n",
      " |  Class methods defined here:\n",
      " |\n",
      " |  from_decimal(dec)\n",
      " |      Converts a finite Decimal instance to a rational number, exactly.\n",
      " |\n",
      " |  from_float(f)\n",
      " |      Converts a finite float to a rational number, exactly.\n",
      " |\n",
      " |      Beware that Fraction.from_float(0.3) != Fraction(3, 10).\n",
      " |\n",
      " |  ----------------------------------------------------------------------\n",
      " |  Static methods defined here:\n",
      " |\n",
      " |  __new__(cls, numerator=0, denominator=None)\n",
      " |      Constructs a Rational.\n",
      " |\n",
      " |      Takes a string like '3/2' or '1.5', another Rational instance, a\n",
      " |      numerator/denominator pair, or a float.\n",
      " |\n",
      " |      Examples\n",
      " |      --------\n",
      " |\n",
      " |      >>> Fraction(10, -8)\n",
      " |      Fraction(-5, 4)\n",
      " |      >>> Fraction(Fraction(1, 7), 5)\n",
      " |      Fraction(1, 35)\n",
      " |      >>> Fraction(Fraction(1, 7), Fraction(2, 3))\n",
      " |      Fraction(3, 14)\n",
      " |      >>> Fraction('314')\n",
      " |      Fraction(314, 1)\n",
      " |      >>> Fraction('-35/4')\n",
      " |      Fraction(-35, 4)\n",
      " |      >>> Fraction('3.1415') # conversion from numeric string\n",
      " |      Fraction(6283, 2000)\n",
      " |      >>> Fraction('-47e-2') # string may include a decimal exponent\n",
      " |      Fraction(-47, 100)\n",
      " |      >>> Fraction(1.47)  # direct construction from float (exact conversion)\n",
      " |      Fraction(6620291452234629, 4503599627370496)\n",
      " |      >>> Fraction(2.25)\n",
      " |      Fraction(9, 4)\n",
      " |      >>> Fraction(Decimal('1.47'))\n",
      " |      Fraction(147, 100)\n",
      " |\n",
      " |  ----------------------------------------------------------------------\n",
      " |  Readonly properties defined here:\n",
      " |\n",
      " |  denominator\n",
      " |\n",
      " |  numerator\n",
      " |\n",
      " |  ----------------------------------------------------------------------\n",
      " |  Data and other attributes defined here:\n",
      " |\n",
      " |  __abstractmethods__ = frozenset()\n",
      " |\n",
      " |  ----------------------------------------------------------------------\n",
      " |  Methods inherited from numbers.Rational:\n",
      " |\n",
      " |  __float__(self)\n",
      " |      float(self) = self.numerator / self.denominator\n",
      " |\n",
      " |      It's important that this conversion use the integer's \"true\"\n",
      " |      division rather than casting one side to float before dividing\n",
      " |      so that ratios of huge integers convert without overflowing.\n",
      " |\n",
      " |  ----------------------------------------------------------------------\n",
      " |  Methods inherited from numbers.Real:\n",
      " |\n",
      " |  __complex__(self)\n",
      " |      complex(self) == complex(float(self), 0)\n",
      " |\n",
      " |  conjugate(self)\n",
      " |      Conjugate is a no-op for Reals.\n",
      " |\n",
      " |  ----------------------------------------------------------------------\n",
      " |  Readonly properties inherited from numbers.Real:\n",
      " |\n",
      " |  imag\n",
      " |      Real numbers have no imaginary component.\n",
      " |\n",
      " |  real\n",
      " |      Real numbers are their real component.\n",
      "\n"
     ]
    }
   ],
   "source": [
    "help(Fraction)"
   ]
  },
  {
   "cell_type": "code",
   "execution_count": 4,
   "id": "b14beb92",
   "metadata": {},
   "outputs": [
    {
     "data": {
      "text/plain": [
       "Fraction(1, 1)"
      ]
     },
     "execution_count": 4,
     "metadata": {},
     "output_type": "execute_result"
    }
   ],
   "source": [
    "Fraction(1)"
   ]
  },
  {
   "cell_type": "code",
   "execution_count": 5,
   "id": "c7bb2937",
   "metadata": {},
   "outputs": [
    {
     "data": {
      "text/plain": [
       "Fraction(0, 1)"
      ]
     },
     "execution_count": 5,
     "metadata": {},
     "output_type": "execute_result"
    }
   ],
   "source": [
    "Fraction()"
   ]
  },
  {
   "cell_type": "code",
   "execution_count": 6,
   "id": "db02f1fe",
   "metadata": {},
   "outputs": [
    {
     "data": {
      "text/plain": [
       "Fraction(2, 1)"
      ]
     },
     "execution_count": 6,
     "metadata": {},
     "output_type": "execute_result"
    }
   ],
   "source": [
    "Fraction(denominator=1, numerator=2)"
   ]
  },
  {
   "cell_type": "code",
   "execution_count": 7,
   "id": "30b6e905",
   "metadata": {},
   "outputs": [
    {
     "data": {
      "text/plain": [
       "Fraction(1, 8)"
      ]
     },
     "execution_count": 7,
     "metadata": {},
     "output_type": "execute_result"
    }
   ],
   "source": [
    "Fraction(0.125)"
   ]
  },
  {
   "cell_type": "code",
   "execution_count": 9,
   "id": "98e04477",
   "metadata": {},
   "outputs": [
    {
     "data": {
      "text/plain": [
       "Fraction(1, 8)"
      ]
     },
     "execution_count": 9,
     "metadata": {},
     "output_type": "execute_result"
    }
   ],
   "source": [
    "Fraction('0.125')"
   ]
  },
  {
   "cell_type": "code",
   "execution_count": 11,
   "id": "10e5d2ee",
   "metadata": {},
   "outputs": [
    {
     "data": {
      "text/plain": [
       "Fraction(22, 7)"
      ]
     },
     "execution_count": 11,
     "metadata": {},
     "output_type": "execute_result"
    }
   ],
   "source": [
    "Fraction('22/7')"
   ]
  },
  {
   "cell_type": "code",
   "execution_count": 12,
   "id": "01314cd2",
   "metadata": {},
   "outputs": [],
   "source": [
    "x = Fraction(2,3)"
   ]
  },
  {
   "cell_type": "code",
   "execution_count": 13,
   "id": "a6b6684c",
   "metadata": {},
   "outputs": [],
   "source": [
    "y = Fraction(3,4)"
   ]
  },
  {
   "cell_type": "code",
   "execution_count": 14,
   "id": "3b58ab5d",
   "metadata": {},
   "outputs": [
    {
     "data": {
      "text/plain": [
       "Fraction(17, 12)"
      ]
     },
     "execution_count": 14,
     "metadata": {},
     "output_type": "execute_result"
    }
   ],
   "source": [
    "x + y"
   ]
  },
  {
   "cell_type": "code",
   "execution_count": 15,
   "id": "7c9e8a6c",
   "metadata": {},
   "outputs": [
    {
     "data": {
      "text/plain": [
       "Fraction(8, 9)"
      ]
     },
     "execution_count": 15,
     "metadata": {},
     "output_type": "execute_result"
    }
   ],
   "source": [
    "x / y"
   ]
  },
  {
   "cell_type": "code",
   "execution_count": 16,
   "id": "ecdb5f55",
   "metadata": {},
   "outputs": [
    {
     "data": {
      "text/plain": [
       "Fraction(1, 2)"
      ]
     },
     "execution_count": 16,
     "metadata": {},
     "output_type": "execute_result"
    }
   ],
   "source": [
    "Fraction(8, 16)"
   ]
  },
  {
   "cell_type": "code",
   "execution_count": 17,
   "id": "1e1835a5",
   "metadata": {},
   "outputs": [
    {
     "data": {
      "text/plain": [
       "Fraction(-1, 4)"
      ]
     },
     "execution_count": 17,
     "metadata": {},
     "output_type": "execute_result"
    }
   ],
   "source": [
    "Fraction(1, -4)"
   ]
  },
  {
   "cell_type": "code",
   "execution_count": 18,
   "id": "a84b490b",
   "metadata": {},
   "outputs": [],
   "source": [
    "x = Fraction(1, -4)"
   ]
  },
  {
   "cell_type": "code",
   "execution_count": 19,
   "id": "750ab099",
   "metadata": {},
   "outputs": [
    {
     "data": {
      "text/plain": [
       "-1"
      ]
     },
     "execution_count": 19,
     "metadata": {},
     "output_type": "execute_result"
    }
   ],
   "source": [
    "x.numerator"
   ]
  },
  {
   "cell_type": "code",
   "execution_count": 20,
   "id": "34669bc9",
   "metadata": {},
   "outputs": [
    {
     "data": {
      "text/plain": [
       "4"
      ]
     },
     "execution_count": 20,
     "metadata": {},
     "output_type": "execute_result"
    }
   ],
   "source": [
    "x.denominator"
   ]
  },
  {
   "cell_type": "code",
   "execution_count": 21,
   "id": "cab7b1cb",
   "metadata": {},
   "outputs": [],
   "source": [
    "import math"
   ]
  },
  {
   "cell_type": "code",
   "execution_count": 22,
   "id": "1d784cf1",
   "metadata": {},
   "outputs": [],
   "source": [
    "x = Fraction(math.pi)"
   ]
  },
  {
   "cell_type": "code",
   "execution_count": 23,
   "id": "fd90a542",
   "metadata": {},
   "outputs": [
    {
     "data": {
      "text/plain": [
       "Fraction(884279719003555, 281474976710656)"
      ]
     },
     "execution_count": 23,
     "metadata": {},
     "output_type": "execute_result"
    }
   ],
   "source": [
    "x"
   ]
  },
  {
   "cell_type": "code",
   "execution_count": 24,
   "id": "7970dff1",
   "metadata": {},
   "outputs": [
    {
     "data": {
      "text/plain": [
       "3.141592653589793"
      ]
     },
     "execution_count": 24,
     "metadata": {},
     "output_type": "execute_result"
    }
   ],
   "source": [
    "float(x)"
   ]
  },
  {
   "cell_type": "code",
   "execution_count": 25,
   "id": "dbebb458",
   "metadata": {},
   "outputs": [],
   "source": [
    "y = Fraction(math.sqrt(2))"
   ]
  },
  {
   "cell_type": "code",
   "execution_count": 26,
   "id": "3630f67e",
   "metadata": {},
   "outputs": [
    {
     "data": {
      "text/plain": [
       "Fraction(6369051672525773, 4503599627370496)"
      ]
     },
     "execution_count": 26,
     "metadata": {},
     "output_type": "execute_result"
    }
   ],
   "source": [
    "y"
   ]
  },
  {
   "cell_type": "code",
   "execution_count": 27,
   "id": "5b62dee9",
   "metadata": {},
   "outputs": [
    {
     "data": {
      "text/plain": [
       "1.4142135623730951"
      ]
     },
     "execution_count": 27,
     "metadata": {},
     "output_type": "execute_result"
    }
   ],
   "source": [
    "float(y)"
   ]
  },
  {
   "cell_type": "code",
   "execution_count": 28,
   "id": "dd6c46b6",
   "metadata": {},
   "outputs": [],
   "source": [
    "a = 0.125"
   ]
  },
  {
   "cell_type": "code",
   "execution_count": 29,
   "id": "c1d1d99f",
   "metadata": {},
   "outputs": [
    {
     "name": "stdout",
     "output_type": "stream",
     "text": [
      "0.125\n"
     ]
    }
   ],
   "source": [
    "print(a)"
   ]
  },
  {
   "cell_type": "code",
   "execution_count": 30,
   "id": "aef80789",
   "metadata": {},
   "outputs": [],
   "source": [
    "b = 0.3"
   ]
  },
  {
   "cell_type": "code",
   "execution_count": 31,
   "id": "4ae3547d",
   "metadata": {},
   "outputs": [
    {
     "name": "stdout",
     "output_type": "stream",
     "text": [
      "0.3\n"
     ]
    }
   ],
   "source": [
    "print(b)"
   ]
  },
  {
   "cell_type": "code",
   "execution_count": 32,
   "id": "479de337",
   "metadata": {},
   "outputs": [
    {
     "data": {
      "text/plain": [
       "Fraction(1, 8)"
      ]
     },
     "execution_count": 32,
     "metadata": {},
     "output_type": "execute_result"
    }
   ],
   "source": [
    "Fraction(a)"
   ]
  },
  {
   "cell_type": "code",
   "execution_count": 33,
   "id": "cee639ec",
   "metadata": {},
   "outputs": [
    {
     "data": {
      "text/plain": [
       "Fraction(5404319552844595, 18014398509481984)"
      ]
     },
     "execution_count": 33,
     "metadata": {},
     "output_type": "execute_result"
    }
   ],
   "source": [
    "Fraction(b)"
   ]
  },
  {
   "cell_type": "code",
   "execution_count": 34,
   "id": "28c0e82b",
   "metadata": {},
   "outputs": [
    {
     "data": {
      "text/plain": [
       "'0.30000'"
      ]
     },
     "execution_count": 34,
     "metadata": {},
     "output_type": "execute_result"
    }
   ],
   "source": [
    "format(b, '0.5f')"
   ]
  },
  {
   "cell_type": "code",
   "execution_count": 35,
   "id": "f8036527",
   "metadata": {},
   "outputs": [
    {
     "data": {
      "text/plain": [
       "'0.300000000000000'"
      ]
     },
     "execution_count": 35,
     "metadata": {},
     "output_type": "execute_result"
    }
   ],
   "source": [
    "format(b, '0.15f')"
   ]
  },
  {
   "cell_type": "code",
   "execution_count": 36,
   "id": "167ff9df",
   "metadata": {},
   "outputs": [
    {
     "data": {
      "text/plain": [
       "'0.2999999999999999888977698'"
      ]
     },
     "execution_count": 36,
     "metadata": {},
     "output_type": "execute_result"
    }
   ],
   "source": [
    "format(b, '0.25f')"
   ]
  },
  {
   "cell_type": "code",
   "execution_count": 37,
   "id": "fd3333fa",
   "metadata": {},
   "outputs": [
    {
     "data": {
      "text/plain": [
       "Fraction(5404319552844595, 18014398509481984)"
      ]
     },
     "execution_count": 37,
     "metadata": {},
     "output_type": "execute_result"
    }
   ],
   "source": [
    "Fraction(b)"
   ]
  },
  {
   "cell_type": "code",
   "execution_count": 38,
   "id": "61c5d825",
   "metadata": {},
   "outputs": [],
   "source": [
    "c = Fraction(3, 10)"
   ]
  },
  {
   "cell_type": "code",
   "execution_count": 39,
   "id": "d0b5c697",
   "metadata": {},
   "outputs": [
    {
     "data": {
      "text/plain": [
       "Fraction(3, 10)"
      ]
     },
     "execution_count": 39,
     "metadata": {},
     "output_type": "execute_result"
    }
   ],
   "source": [
    "c"
   ]
  },
  {
   "cell_type": "code",
   "execution_count": 40,
   "id": "bbc28ab4",
   "metadata": {},
   "outputs": [
    {
     "data": {
      "text/plain": [
       "0.3"
      ]
     },
     "execution_count": 40,
     "metadata": {},
     "output_type": "execute_result"
    }
   ],
   "source": [
    "float(c)"
   ]
  },
  {
   "cell_type": "code",
   "execution_count": 41,
   "id": "abf9b111",
   "metadata": {},
   "outputs": [
    {
     "data": {
      "text/plain": [
       "'0.2999999999999999888977698'"
      ]
     },
     "execution_count": 41,
     "metadata": {},
     "output_type": "execute_result"
    }
   ],
   "source": [
    "format(float(c), '0.25f')"
   ]
  },
  {
   "cell_type": "code",
   "execution_count": 42,
   "id": "72360d7c",
   "metadata": {},
   "outputs": [],
   "source": [
    "x = Fraction(0.3)"
   ]
  },
  {
   "cell_type": "code",
   "execution_count": 43,
   "id": "43241bbd",
   "metadata": {},
   "outputs": [
    {
     "data": {
      "text/plain": [
       "Fraction(5404319552844595, 18014398509481984)"
      ]
     },
     "execution_count": 43,
     "metadata": {},
     "output_type": "execute_result"
    }
   ],
   "source": [
    "x"
   ]
  },
  {
   "cell_type": "code",
   "execution_count": 44,
   "id": "c6e9854b",
   "metadata": {},
   "outputs": [
    {
     "data": {
      "text/plain": [
       "Fraction(3, 10)"
      ]
     },
     "execution_count": 44,
     "metadata": {},
     "output_type": "execute_result"
    }
   ],
   "source": [
    "x.limit_denominator(10)"
   ]
  },
  {
   "cell_type": "code",
   "execution_count": 45,
   "id": "c777d1dd",
   "metadata": {},
   "outputs": [
    {
     "data": {
      "text/plain": [
       "Fraction(5404319552844595, 18014398509481984)"
      ]
     },
     "execution_count": 45,
     "metadata": {},
     "output_type": "execute_result"
    }
   ],
   "source": [
    "x"
   ]
  },
  {
   "cell_type": "code",
   "execution_count": null,
   "id": "0eacb0d0",
   "metadata": {},
   "outputs": [],
   "source": []
  }
 ],
 "metadata": {
  "kernelspec": {
   "display_name": "venv",
   "language": "python",
   "name": "python3"
  },
  "language_info": {
   "codemirror_mode": {
    "name": "ipython",
    "version": 3
   },
   "file_extension": ".py",
   "mimetype": "text/x-python",
   "name": "python",
   "nbconvert_exporter": "python",
   "pygments_lexer": "ipython3",
   "version": "3.12.3"
  }
 },
 "nbformat": 4,
 "nbformat_minor": 5
}
