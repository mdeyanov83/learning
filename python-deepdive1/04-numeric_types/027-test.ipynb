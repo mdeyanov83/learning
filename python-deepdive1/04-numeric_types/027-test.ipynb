{
 "cells": [
  {
   "cell_type": "markdown",
   "id": "020c5fa7",
   "metadata": {},
   "source": [
    "## Booleans - Truth Values"
   ]
  },
  {
   "cell_type": "code",
   "execution_count": 2,
   "id": "1779fa67",
   "metadata": {},
   "outputs": [
    {
     "data": {
      "text/plain": [
       "True"
      ]
     },
     "execution_count": 2,
     "metadata": {},
     "output_type": "execute_result"
    }
   ],
   "source": [
    "bool(None) is False"
   ]
  },
  {
   "cell_type": "code",
   "execution_count": null,
   "id": "be0d7179",
   "metadata": {},
   "outputs": [],
   "source": []
  }
 ],
 "metadata": {
  "kernelspec": {
   "display_name": "venv",
   "language": "python",
   "name": "python3"
  },
  "language_info": {
   "codemirror_mode": {
    "name": "ipython",
    "version": 3
   },
   "file_extension": ".py",
   "mimetype": "text/x-python",
   "name": "python",
   "nbconvert_exporter": "python",
   "pygments_lexer": "ipython3",
   "version": "3.12.3"
  }
 },
 "nbformat": 4,
 "nbformat_minor": 5
}
