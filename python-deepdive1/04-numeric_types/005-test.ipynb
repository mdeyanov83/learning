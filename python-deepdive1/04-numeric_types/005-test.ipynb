{
 "cells": [
  {
   "cell_type": "markdown",
   "id": "df362ab8",
   "metadata": {},
   "source": [
    "## Integers - Bases and Constructors"
   ]
  },
  {
   "cell_type": "code",
   "execution_count": null,
   "id": "ad815795",
   "metadata": {},
   "outputs": [],
   "source": []
  }
 ],
 "metadata": {
  "kernelspec": {
   "display_name": "venv",
   "language": "python",
   "name": "python3"
  },
  "language_info": {
   "name": "python",
   "version": "3.12.3"
  }
 },
 "nbformat": 4,
 "nbformat_minor": 5
}
