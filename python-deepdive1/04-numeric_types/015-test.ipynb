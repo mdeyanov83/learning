{
 "cells": [
  {
   "cell_type": "markdown",
   "id": "2b45de74",
   "metadata": {},
   "source": [
    "## Floats - Rounding"
   ]
  },
  {
   "cell_type": "code",
   "execution_count": 1,
   "id": "853b169f",
   "metadata": {},
   "outputs": [],
   "source": [
    "x = 1.35"
   ]
  },
  {
   "cell_type": "code",
   "execution_count": 2,
   "id": "d48f0487",
   "metadata": {},
   "outputs": [
    {
     "name": "stdout",
     "output_type": "stream",
     "text": [
      "1.3500000000000000888178420\n"
     ]
    }
   ],
   "source": [
    "print(format(x, '.25f'))"
   ]
  },
  {
   "cell_type": "code",
   "execution_count": 3,
   "id": "b67d244c",
   "metadata": {},
   "outputs": [
    {
     "name": "stdout",
     "output_type": "stream",
     "text": [
      "1.2500000000000000000000000\n"
     ]
    }
   ],
   "source": [
    "x = 1.25\n",
    "print(format(x, '.25f'))"
   ]
  },
  {
   "cell_type": "code",
   "execution_count": null,
   "id": "907ea377",
   "metadata": {},
   "outputs": [],
   "source": []
  }
 ],
 "metadata": {
  "kernelspec": {
   "display_name": "venv",
   "language": "python",
   "name": "python3"
  },
  "language_info": {
   "codemirror_mode": {
    "name": "ipython",
    "version": 3
   },
   "file_extension": ".py",
   "mimetype": "text/x-python",
   "name": "python",
   "nbconvert_exporter": "python",
   "pygments_lexer": "ipython3",
   "version": "3.12.3"
  }
 },
 "nbformat": 4,
 "nbformat_minor": 5
}
