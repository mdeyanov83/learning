{
 "cells": [
  {
   "cell_type": "markdown",
   "id": "2b45de74",
   "metadata": {},
   "source": [
    "## Floats - Rounding"
   ]
  },
  {
   "cell_type": "code",
   "execution_count": 1,
   "id": "853b169f",
   "metadata": {},
   "outputs": [],
   "source": [
    "x = 1.35"
   ]
  },
  {
   "cell_type": "code",
   "execution_count": null,
   "id": "d48f0487",
   "metadata": {},
   "outputs": [],
   "source": [
    "print"
   ]
  }
 ],
 "metadata": {
  "kernelspec": {
   "display_name": "venv",
   "language": "python",
   "name": "python3"
  },
  "language_info": {
   "codemirror_mode": {
    "name": "ipython",
    "version": 3
   },
   "file_extension": ".py",
   "mimetype": "text/x-python",
   "name": "python",
   "nbconvert_exporter": "python",
   "pygments_lexer": "ipython3",
   "version": "3.12.3"
  }
 },
 "nbformat": 4,
 "nbformat_minor": 5
}
