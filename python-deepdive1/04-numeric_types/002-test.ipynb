{
 "cells": [
  {
   "cell_type": "markdown",
   "id": "0b1a3131",
   "metadata": {},
   "source": [
    "## Integers - Data type"
   ]
  },
  {
   "cell_type": "code",
   "execution_count": 1,
   "id": "1a8f230d",
   "metadata": {},
   "outputs": [],
   "source": [
    "a = 10"
   ]
  }
 ],
 "metadata": {
  "kernelspec": {
   "display_name": "venv",
   "language": "python",
   "name": "python3"
  },
  "language_info": {
   "codemirror_mode": {
    "name": "ipython",
    "version": 3
   },
   "file_extension": ".py",
   "mimetype": "text/x-python",
   "name": "python",
   "nbconvert_exporter": "python",
   "pygments_lexer": "ipython3",
   "version": "3.12.3"
  }
 },
 "nbformat": 4,
 "nbformat_minor": 5
}
