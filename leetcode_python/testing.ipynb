{
 "cells": [
  {
   "cell_type": "code",
   "execution_count": 2,
   "id": "3569cba9",
   "metadata": {},
   "outputs": [
    {
     "name": "stdout",
     "output_type": "stream",
     "text": [
      "0 A\n",
      "1 B\n",
      "2 C\n",
      "1\n"
     ]
    }
   ],
   "source": [
    "class Solution:\n",
    "    def titleToNumber(self, columnTitle: str) -> int:\n",
    "        values = {\n",
    "            'A': 1,\n",
    "            'B': 2,\n",
    "            'C': 3,\n",
    "            'D': 4,\n",
    "            'E': 5,\n",
    "            'F': 6,\n",
    "            'G': 7,\n",
    "            'H': 8,\n",
    "            'I': 9,\n",
    "            'J': 10,\n",
    "            'K': 11,\n",
    "            'L': 12,\n",
    "            'M': 13,\n",
    "            'N': 14,\n",
    "            'O': 15,\n",
    "            'P': 16,\n",
    "            'Q': 17,\n",
    "            'R': 18,\n",
    "            'S': 19,\n",
    "            'T': 20,\n",
    "            'U': 21,\n",
    "            'V': 22,\n",
    "            'W': 23,\n",
    "            'X': 24,\n",
    "            'Y': 25,\n",
    "            'Z': 26\n",
    "        }\n",
    "\n",
    "        for index, letter in enumerate(columnTitle):\n",
    "            print(index, letter)\n",
    "\n",
    "\n",
    "        return 1\n",
    "\n",
    "def main():\n",
    "    sol = Solution()\n",
    "\n",
    "    input = 'ABC'\n",
    "\n",
    "    print(sol.titleToNumber(input))\n",
    "\n",
    "if __name__ == \"__main__\":\n",
    "    main()\n"
   ]
  },
  {
   "cell_type": "code",
   "execution_count": null,
   "id": "ce41f4b5",
   "metadata": {},
   "outputs": [],
   "source": []
  }
 ],
 "metadata": {
  "kernelspec": {
   "display_name": "venv",
   "language": "python",
   "name": "python3"
  },
  "language_info": {
   "codemirror_mode": {
    "name": "ipython",
    "version": 3
   },
   "file_extension": ".py",
   "mimetype": "text/x-python",
   "name": "python",
   "nbconvert_exporter": "python",
   "pygments_lexer": "ipython3",
   "version": "3.12.3"
  }
 },
 "nbformat": 4,
 "nbformat_minor": 5
}
