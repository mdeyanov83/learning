{
 "cells": [
  {
   "cell_type": "code",
   "execution_count": 52,
   "id": "3569cba9",
   "metadata": {},
   "outputs": [
    {
     "name": "stdout",
     "output_type": "stream",
     "text": [
      "26 25\n",
      "Z\n",
      "1 0\n",
      "A\n",
      "0 1\n",
      "B\n",
      "AZY\n"
     ]
    }
   ],
   "source": [
    "class Solution:\n",
    "    def convertToTitle(self, columnNumber: int) -> str:\n",
    "\n",
    "        digits = 'ABCDEFGHIJKLMNOPQRSTUVWXYZ'\n",
    "        base = 26\n",
    "        n_base = []\n",
    "        n = columnNumber\n",
    "\n",
    "        while n > 0:\n",
    "            n, m = divmod(n, base)\n",
    "            print(n, m)\n",
    "            n_base.insert(0, m)\n",
    "            print(digits[m])\n",
    "\n",
    "\n",
    "        result = ''.join([digits[d-1] for d in n_base])\n",
    "        return result\n",
    "\n",
    "def main():\n",
    "    sol = Solution()\n",
    "    testCase = 701\n",
    "    print(sol.convertToTitle(testCase))\n",
    "\n",
    "if __name__ == \"__main__\":\n",
    "    main()\n"
   ]
  }
 ],
 "metadata": {
  "kernelspec": {
   "display_name": "venv",
   "language": "python",
   "name": "python3"
  },
  "language_info": {
   "codemirror_mode": {
    "name": "ipython",
    "version": 3
   },
   "file_extension": ".py",
   "mimetype": "text/x-python",
   "name": "python",
   "nbconvert_exporter": "python",
   "pygments_lexer": "ipython3",
   "version": "3.12.3"
  }
 },
 "nbformat": 4,
 "nbformat_minor": 5
}
