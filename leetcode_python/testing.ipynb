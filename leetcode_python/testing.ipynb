{
 "cells": [
  {
   "cell_type": "code",
   "execution_count": null,
   "id": "3569cba9",
   "metadata": {},
   "outputs": [
    {
     "name": "stdout",
     "output_type": "stream",
     "text": [
      "{2: 4, 1: 3}\n",
      "7\n",
      "2\n"
     ]
    }
   ],
   "source": [
    "from typing import List\n",
    "\n",
    "class Solution:\n",
    "    def majorityElement(self, nums: List[int]) -> int:\n",
    "\n",
    "        occur = {}\n",
    "\n",
    "        for x in nums:\n",
    "            if x in occur:\n",
    "                occur[x] += 1\n",
    "            else:\n",
    "                occur[x] = 1\n",
    "\n",
    "        for key in occur:\n",
    "            if occur[key] >= len(nums) / 2:\n",
    "                return key\n",
    "\n",
    "def main():\n",
    "    sol = Solution()\n",
    "\n",
    "    input = [2,2,1,1,1,2,2]\n",
    "\n",
    "    print(sol.majorityElement(input))\n",
    "\n",
    "if __name__ == \"__main__\":\n",
    "    main()\n"
   ]
  }
 ],
 "metadata": {
  "kernelspec": {
   "display_name": "venv",
   "language": "python",
   "name": "python3"
  },
  "language_info": {
   "codemirror_mode": {
    "name": "ipython",
    "version": 3
   },
   "file_extension": ".py",
   "mimetype": "text/x-python",
   "name": "python",
   "nbconvert_exporter": "python",
   "pygments_lexer": "ipython3",
   "version": "3.12.3"
  }
 },
 "nbformat": 4,
 "nbformat_minor": 5
}
