{
 "cells": [
  {
   "cell_type": "code",
   "execution_count": 1,
   "id": "3569cba9",
   "metadata": {},
   "outputs": [
    {
     "ename": "ValueError",
     "evalue": "not enough values to unpack (expected 2, got 1)",
     "output_type": "error",
     "traceback": [
      "\u001b[31m---------------------------------------------------------------------------\u001b[39m",
      "\u001b[31mValueError\u001b[39m                                Traceback (most recent call last)",
      "\u001b[36mCell\u001b[39m\u001b[36m \u001b[39m\u001b[32mIn[1]\u001b[39m\u001b[32m, line 46\u001b[39m\n\u001b[32m     43\u001b[39m     \u001b[38;5;28mprint\u001b[39m(sol.titleToNumber(\u001b[38;5;28minput\u001b[39m))\n\u001b[32m     45\u001b[39m \u001b[38;5;28;01mif\u001b[39;00m \u001b[34m__name__\u001b[39m == \u001b[33m\"\u001b[39m\u001b[33m__main__\u001b[39m\u001b[33m\"\u001b[39m:\n\u001b[32m---> \u001b[39m\u001b[32m46\u001b[39m     \u001b[43mmain\u001b[49m\u001b[43m(\u001b[49m\u001b[43m)\u001b[49m\n",
      "\u001b[36mCell\u001b[39m\u001b[36m \u001b[39m\u001b[32mIn[1]\u001b[39m\u001b[32m, line 43\u001b[39m, in \u001b[36mmain\u001b[39m\u001b[34m()\u001b[39m\n\u001b[32m     39\u001b[39m sol = Solution()\n\u001b[32m     41\u001b[39m \u001b[38;5;28minput\u001b[39m = \u001b[33m'\u001b[39m\u001b[33mABC\u001b[39m\u001b[33m'\u001b[39m\n\u001b[32m---> \u001b[39m\u001b[32m43\u001b[39m \u001b[38;5;28mprint\u001b[39m(\u001b[43msol\u001b[49m\u001b[43m.\u001b[49m\u001b[43mtitleToNumber\u001b[49m\u001b[43m(\u001b[49m\u001b[38;5;28;43minput\u001b[39;49m\u001b[43m)\u001b[49m)\n",
      "\u001b[36mCell\u001b[39m\u001b[36m \u001b[39m\u001b[32mIn[1]\u001b[39m\u001b[32m, line 32\u001b[39m, in \u001b[36mSolution.titleToNumber\u001b[39m\u001b[34m(self, columnTitle)\u001b[39m\n\u001b[32m      2\u001b[39m \u001b[38;5;28;01mdef\u001b[39;00m\u001b[38;5;250m \u001b[39m\u001b[34mtitleToNumber\u001b[39m(\u001b[38;5;28mself\u001b[39m, columnTitle: \u001b[38;5;28mstr\u001b[39m) -> \u001b[38;5;28mint\u001b[39m:\n\u001b[32m      3\u001b[39m     values = {\n\u001b[32m      4\u001b[39m         \u001b[33m'\u001b[39m\u001b[33mA\u001b[39m\u001b[33m'\u001b[39m: \u001b[32m1\u001b[39m,\n\u001b[32m      5\u001b[39m         \u001b[33m'\u001b[39m\u001b[33mB\u001b[39m\u001b[33m'\u001b[39m: \u001b[32m2\u001b[39m,\n\u001b[32m   (...)\u001b[39m\u001b[32m     29\u001b[39m         \u001b[33m'\u001b[39m\u001b[33mZ\u001b[39m\u001b[33m'\u001b[39m: \u001b[32m26\u001b[39m\n\u001b[32m     30\u001b[39m     }\n\u001b[32m---> \u001b[39m\u001b[32m32\u001b[39m     \u001b[38;5;28;01mfor\u001b[39;00m letter, index \u001b[38;5;129;01min\u001b[39;00m columnTitle:\n\u001b[32m     33\u001b[39m         \u001b[38;5;28mprint\u001b[39m(letter, index)\n\u001b[32m     36\u001b[39m     \u001b[38;5;28;01mreturn\u001b[39;00m \u001b[32m1\u001b[39m\n",
      "\u001b[31mValueError\u001b[39m: not enough values to unpack (expected 2, got 1)"
     ]
    }
   ],
   "source": [
    "class Solution:\n",
    "    def titleToNumber(self, columnTitle: str) -> int:\n",
    "        values = {\n",
    "            'A': 1,\n",
    "            'B': 2,\n",
    "            'C': 3,\n",
    "            'D': 4,\n",
    "            'E': 5,\n",
    "            'F': 6,\n",
    "            'G': 7,\n",
    "            'H': 8,\n",
    "            'I': 9,\n",
    "            'J': 10,\n",
    "            'K': 11,\n",
    "            'L': 12,\n",
    "            'M': 13,\n",
    "            'N': 14,\n",
    "            'O': 15,\n",
    "            'P': 16,\n",
    "            'Q': 17,\n",
    "            'R': 18,\n",
    "            'S': 19,\n",
    "            'T': 20,\n",
    "            'U': 21,\n",
    "            'V': 22,\n",
    "            'W': 23,\n",
    "            'X': 24,\n",
    "            'Y': 25,\n",
    "            'Z': 26\n",
    "        }\n",
    "\n",
    "        for letter, index in columnTitle:\n",
    "            print(letter, index)\n",
    "\n",
    "\n",
    "        return 1\n",
    "\n",
    "def main():\n",
    "    sol = Solution()\n",
    "\n",
    "    input = 'ABC'\n",
    "\n",
    "    print(sol.titleToNumber(input))\n",
    "\n",
    "if __name__ == \"__main__\":\n",
    "    main()\n"
   ]
  }
 ],
 "metadata": {
  "kernelspec": {
   "display_name": "venv",
   "language": "python",
   "name": "python3"
  },
  "language_info": {
   "codemirror_mode": {
    "name": "ipython",
    "version": 3
   },
   "file_extension": ".py",
   "mimetype": "text/x-python",
   "name": "python",
   "nbconvert_exporter": "python",
   "pygments_lexer": "ipython3",
   "version": "3.12.3"
  }
 },
 "nbformat": 4,
 "nbformat_minor": 5
}
