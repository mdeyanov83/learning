{
 "cells": [
  {
   "cell_type": "code",
   "execution_count": 22,
   "id": "3569cba9",
   "metadata": {},
   "outputs": [
    {
     "name": "stdout",
     "output_type": "stream",
     "text": [
      "1 25\n",
      "[25]\n",
      "0 1\n",
      "[0, 25]\n",
      "AZ\n"
     ]
    }
   ],
   "source": [
    "class Solution:\n",
    "    def convertToTitle(self, columnNumber: int) -> str:\n",
    "\n",
    "        if columnNumber == 1: return 'A'\n",
    "\n",
    "        digits = 'ABCDEFGHIJKLMNOPQRSTUVWXYZ'\n",
    "        base = 26\n",
    "        n_base = []\n",
    "        n = columnNumber - 1\n",
    "\n",
    "        index = 0\n",
    "\n",
    "        while n > 0:\n",
    "            n, m = divmod(n, base)\n",
    "            print(n, m)\n",
    "            if index == 0:\n",
    "                n_base.insert(0, m)\n",
    "            else:\n",
    "                n_base.insert(0, m-1)\n",
    "            index += 1\n",
    "            print(n_base)\n",
    "\n",
    "        result = ''.join([digits[d] for d in n_base])\n",
    "        return result\n",
    "\n",
    "def main():\n",
    "    sol = Solution()\n",
    "    testCase = 52\n",
    "    print(sol.convertToTitle(testCase))\n",
    "\n",
    "if __name__ == \"__main__\":\n",
    "    main()\n"
   ]
  }
 ],
 "metadata": {
  "kernelspec": {
   "display_name": "venv",
   "language": "python",
   "name": "python3"
  },
  "language_info": {
   "codemirror_mode": {
    "name": "ipython",
    "version": 3
   },
   "file_extension": ".py",
   "mimetype": "text/x-python",
   "name": "python",
   "nbconvert_exporter": "python",
   "pygments_lexer": "ipython3",
   "version": "3.12.3"
  }
 },
 "nbformat": 4,
 "nbformat_minor": 5
}
