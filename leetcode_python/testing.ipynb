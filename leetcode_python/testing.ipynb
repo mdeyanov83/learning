{
 "cells": [
  {
   "cell_type": "code",
   "execution_count": 12,
   "id": "3569cba9",
   "metadata": {},
   "outputs": [
    {
     "name": "stdout",
     "output_type": "stream",
     "text": [
      "BA\n"
     ]
    }
   ],
   "source": [
    "class Solution:\n",
    "    def convertToTitle(self, columnNumber: int) -> str:\n",
    "\n",
    "        if columnNumber == 1: return 'A'\n",
    "\n",
    "        digits = 'ABCDEFGHIJKLMNOPQRSTUVWXYZ'\n",
    "        base = 26\n",
    "        n_base = []\n",
    "        n = columnNumber - 1\n",
    "\n",
    "        while n > 0:\n",
    "            n, m = divmod(n, base)\n",
    "            n_base.insert(0, m)\n",
    "\n",
    "        result = ''.join([digits[d] for d in n_base])\n",
    "        return result\n",
    "\n",
    "def main():\n",
    "    sol = Solution()\n",
    "    testCase = 27\n",
    "    print(sol.convertToTitle(testCase))\n",
    "\n",
    "if __name__ == \"__main__\":\n",
    "    main()\n"
   ]
  }
 ],
 "metadata": {
  "kernelspec": {
   "display_name": "venv",
   "language": "python",
   "name": "python3"
  },
  "language_info": {
   "codemirror_mode": {
    "name": "ipython",
    "version": 3
   },
   "file_extension": ".py",
   "mimetype": "text/x-python",
   "name": "python",
   "nbconvert_exporter": "python",
   "pygments_lexer": "ipython3",
   "version": "3.12.3"
  }
 },
 "nbformat": 4,
 "nbformat_minor": 5
}
