{
 "cells": [
  {
   "cell_type": "code",
   "execution_count": 63,
   "id": "3569cba9",
   "metadata": {},
   "outputs": [
    {
     "ename": "AttributeError",
     "evalue": "'list' object has no attribute 'length'",
     "output_type": "error",
     "traceback": [
      "\u001b[31m---------------------------------------------------------------------------\u001b[39m",
      "\u001b[31mAttributeError\u001b[39m                            Traceback (most recent call last)",
      "\u001b[36mCell\u001b[39m\u001b[36m \u001b[39m\u001b[32mIn[63]\u001b[39m\u001b[32m, line 26\u001b[39m\n\u001b[32m     23\u001b[39m     \u001b[38;5;28mprint\u001b[39m(sol.majorityElement(\u001b[38;5;28minput\u001b[39m))\n\u001b[32m     25\u001b[39m \u001b[38;5;28;01mif\u001b[39;00m \u001b[34m__name__\u001b[39m == \u001b[33m\"\u001b[39m\u001b[33m__main__\u001b[39m\u001b[33m\"\u001b[39m:\n\u001b[32m---> \u001b[39m\u001b[32m26\u001b[39m     \u001b[43mmain\u001b[49m\u001b[43m(\u001b[49m\u001b[43m)\u001b[49m\n",
      "\u001b[36mCell\u001b[39m\u001b[36m \u001b[39m\u001b[32mIn[63]\u001b[39m\u001b[32m, line 23\u001b[39m, in \u001b[36mmain\u001b[39m\u001b[34m()\u001b[39m\n\u001b[32m     19\u001b[39m sol = Solution()\n\u001b[32m     21\u001b[39m \u001b[38;5;28minput\u001b[39m = [\u001b[32m3\u001b[39m, \u001b[32m2\u001b[39m, \u001b[32m3\u001b[39m]\n\u001b[32m---> \u001b[39m\u001b[32m23\u001b[39m \u001b[38;5;28mprint\u001b[39m(\u001b[43msol\u001b[49m\u001b[43m.\u001b[49m\u001b[43mmajorityElement\u001b[49m\u001b[43m(\u001b[49m\u001b[38;5;28;43minput\u001b[39;49m\u001b[43m)\u001b[49m)\n",
      "\u001b[36mCell\u001b[39m\u001b[36m \u001b[39m\u001b[32mIn[63]\u001b[39m\u001b[32m, line 15\u001b[39m, in \u001b[36mSolution.majorityElement\u001b[39m\u001b[34m(self, nums)\u001b[39m\n\u001b[32m     12\u001b[39m         occur[x] = \u001b[32m1\u001b[39m\n\u001b[32m     14\u001b[39m \u001b[38;5;28;01mfor\u001b[39;00m key \u001b[38;5;129;01min\u001b[39;00m occur:\n\u001b[32m---> \u001b[39m\u001b[32m15\u001b[39m     \u001b[38;5;28;01mif\u001b[39;00m key >= \u001b[43mnums\u001b[49m\u001b[43m.\u001b[49m\u001b[43mlength\u001b[49m() / \u001b[32m2\u001b[39m:\n\u001b[32m     16\u001b[39m         \u001b[38;5;28;01mreturn\u001b[39;00m occur[key]\n",
      "\u001b[31mAttributeError\u001b[39m: 'list' object has no attribute 'length'"
     ]
    }
   ],
   "source": [
    "from typing import List\n",
    "\n",
    "class Solution:\n",
    "    def majorityElement(self, nums: List[int]) -> int:\n",
    "\n",
    "        occur = {}\n",
    "\n",
    "        for x in nums:\n",
    "            if x in occur:\n",
    "                occur[x] += 1\n",
    "            else:\n",
    "                occur[x] = 1\n",
    "\n",
    "        for key in occur:\n",
    "            if key >= nums.length() / 2:\n",
    "                return occur[key]\n",
    "\n",
    "def main():\n",
    "    sol = Solution()\n",
    "\n",
    "    input = [3, 2, 3]\n",
    "\n",
    "    print(sol.majorityElement(input))\n",
    "\n",
    "if __name__ == \"__main__\":\n",
    "    main()\n"
   ]
  }
 ],
 "metadata": {
  "kernelspec": {
   "display_name": "venv",
   "language": "python",
   "name": "python3"
  },
  "language_info": {
   "codemirror_mode": {
    "name": "ipython",
    "version": 3
   },
   "file_extension": ".py",
   "mimetype": "text/x-python",
   "name": "python",
   "nbconvert_exporter": "python",
   "pygments_lexer": "ipython3",
   "version": "3.12.3"
  }
 },
 "nbformat": 4,
 "nbformat_minor": 5
}
